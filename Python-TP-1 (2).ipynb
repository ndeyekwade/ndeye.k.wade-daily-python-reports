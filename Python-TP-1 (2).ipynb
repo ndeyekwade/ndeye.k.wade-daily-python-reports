{
 "cells": [
  {
   "cell_type": "markdown",
   "id": "426486dd",
   "metadata": {
    "id": "426486dd"
   },
   "source": [
    "\n",
    "\n",
    "# Practical_1: Variables and Assignments"
   ]
  },
  {
   "cell_type": "code",
   "execution_count": null,
   "id": "4cbe4a72-ca9a-4830-8c92-a055c1239422",
   "metadata": {
    "id": "9fb19f0d"
   },
   "outputs": [],
   "source": [
    "### Exercise 1:\n",
    "Declare a variable `x` and assign it the value `10`."
   ]
  },
  {
   "cell_type": "code",
   "execution_count": 7,
   "id": "75c39aa6-634c-4831-b8de-462fd86986bb",
   "metadata": {
    "id": "9fb19f0d"
   },
   "outputs": [
    {
     "name": "stdout",
     "output_type": "stream",
     "text": [
      "10\n"
     ]
    }
   ],
   "source": [
    "# Exercise 1\n",
    "x = 10 \n",
    "print(x)"
   ]
  },
  {
   "cell_type": "code",
   "execution_count": null,
   "id": "bc832e7a-1c3a-4035-8b38-a299419d9cbe",
   "metadata": {
    "id": "9fb19f0d"
   },
   "outputs": [],
   "source": [
    "### Exercise 2:\n",
    "Assign the value `True` to a variable called `is_valid`."
   ]
  },
  {
   "cell_type": "code",
   "execution_count": 29,
   "id": "69de0698-e7eb-4358-b39d-e059e155bd59",
   "metadata": {
    "id": "9fb19f0d"
   },
   "outputs": [
    {
     "name": "stdout",
     "output_type": "stream",
     "text": [
      "True\n"
     ]
    }
   ],
   "source": [
    "# Exercise 2\n",
    "is_valid = \"True\"\n",
    "print(is_valid)"
   ]
  },
  {
   "cell_type": "code",
   "execution_count": null,
   "id": "a17e9065-6015-42bb-9ae6-45e10bfe7e95",
   "metadata": {
    "id": "9fb19f0d"
   },
   "outputs": [],
   "source": [
    "### Exercise 3:\n",
    "Create a string variable `name` with the value \"Python Programming\"."
   ]
  },
  {
   "cell_type": "code",
   "execution_count": 45,
   "id": "56c1bad9-17fa-4df6-9ba0-a580d3f22043",
   "metadata": {
    "id": "9fb19f0d"
   },
   "outputs": [
    {
     "name": "stdout",
     "output_type": "stream",
     "text": [
      "Python Programming\n"
     ]
    },
    {
     "data": {
      "text/plain": [
       "str"
      ]
     },
     "execution_count": 45,
     "metadata": {},
     "output_type": "execute_result"
    }
   ],
   "source": [
    "# Exercise 3\n",
    "name = \"Python Programming\"\n",
    "print(name)\n",
    "type(name)"
   ]
  },
  {
   "cell_type": "code",
   "execution_count": null,
   "id": "2b3d4b71-9dee-425a-9e54-3726339df4a3",
   "metadata": {
    "id": "9fb19f0d"
   },
   "outputs": [],
   "source": [
    "### Exercise 4:\n",
    "Assign the result of `5 + 3` to a variable `sum_result`."
   ]
  },
  {
   "cell_type": "code",
   "execution_count": 49,
   "id": "02f0be94-9bb0-449d-9a9e-9a5ccb74cc4b",
   "metadata": {
    "id": "9fb19f0d"
   },
   "outputs": [
    {
     "name": "stdout",
     "output_type": "stream",
     "text": [
      "8\n"
     ]
    }
   ],
   "source": [
    "# Exercise 4\n",
    "sum_result = 5+3\n",
    "print(sum_result)"
   ]
  },
  {
   "cell_type": "code",
   "execution_count": null,
   "id": "2d1cf38b-a249-46b1-a01d-7d3b4280c275",
   "metadata": {
    "id": "9fb19f0d"
   },
   "outputs": [],
   "source": [
    "### Exercise 5:\n",
    "Assign multiple variables in one line: `a = 5`, `b = 10`, `c = 15`."
   ]
  },
  {
   "cell_type": "code",
   "execution_count": 53,
   "id": "c9125008-1daf-4c32-8e62-4d9cc97666e0",
   "metadata": {
    "id": "9fb19f0d"
   },
   "outputs": [],
   "source": [
    "# Exercise\n",
    "a , b, c = 5, 10, 15"
   ]
  },
  {
   "cell_type": "code",
   "execution_count": null,
   "id": "0137b33d-c53e-4014-9640-2f3c3379cfc4",
   "metadata": {
    "id": "9fb19f0d"
   },
   "outputs": [],
   "source": [
    "### Exercise 6:\n",
    "Assign the value of one variable `x` to another variable `y`."
   ]
  },
  {
   "cell_type": "code",
   "execution_count": 55,
   "id": "a94eadfc-0045-4e7a-83fd-f1edee8b11a5",
   "metadata": {
    "id": "9fb19f0d"
   },
   "outputs": [
    {
     "name": "stdout",
     "output_type": "stream",
     "text": [
      "2\n"
     ]
    }
   ],
   "source": [
    "# Exercise 6\n",
    "x = 2\n",
    "y = x \n",
    "print(y)"
   ]
  },
  {
   "cell_type": "code",
   "execution_count": null,
   "id": "2af15078-2b65-412e-85db-3f2e57e5afb6",
   "metadata": {
    "id": "9fb19f0d"
   },
   "outputs": [],
   "source": [
    "### Exercise 7:\n",
    "Assign a floating-point number `9.8` to a variable `gravity`."
   ]
  },
  {
   "cell_type": "code",
   "execution_count": 59,
   "id": "19a0961d-8037-42cb-93bc-9d79294825f9",
   "metadata": {
    "id": "9fb19f0d"
   },
   "outputs": [
    {
     "name": "stdout",
     "output_type": "stream",
     "text": [
      "9.8\n"
     ]
    },
    {
     "data": {
      "text/plain": [
       "float"
      ]
     },
     "execution_count": 59,
     "metadata": {},
     "output_type": "execute_result"
    }
   ],
   "source": [
    "# Exercise 7\n",
    "gravity = 9.8\n",
    "print(gravity)\n",
    "type(gravity)"
   ]
  },
  {
   "cell_type": "code",
   "execution_count": null,
   "id": "91eb0644-a205-4aa2-bd11-67c8f8aeff61",
   "metadata": {
    "id": "9fb19f0d"
   },
   "outputs": [],
   "source": [
    "### Exercise 8:\n",
    "Create a variable `country` and assign it the string value of your favorite country."
   ]
  },
  {
   "cell_type": "code",
   "execution_count": 61,
   "id": "a7d584a6-d5af-4307-9b53-677b0d58f5df",
   "metadata": {
    "id": "9fb19f0d"
   },
   "outputs": [
    {
     "name": "stdout",
     "output_type": "stream",
     "text": [
      "SENEGAL\n"
     ]
    }
   ],
   "source": [
    "# Exercise 8\n",
    "country = \"SENEGAL\"\n",
    "print(country)"
   ]
  },
  {
   "cell_type": "code",
   "execution_count": null,
   "id": "f2bc9106-4c1a-4c48-8bd7-946b2f16ef90",
   "metadata": {
    "id": "9fb19f0d"
   },
   "outputs": [],
   "source": [
    "### Exercise 9:\n",
    "Change the value of variable `age` from `25` to `26` in two separate steps."
   ]
  },
  {
   "cell_type": "code",
   "execution_count": 69,
   "id": "fcd7fbb5-36ff-440a-9f7f-a0617584804e",
   "metadata": {
    "id": "9fb19f0d"
   },
   "outputs": [
    {
     "name": "stdout",
     "output_type": "stream",
     "text": [
      "26\n"
     ]
    }
   ],
   "source": [
    "# Exercise 9\n",
    "age = 25\n",
    "age = 26\n",
    "print(age)"
   ]
  },
  {
   "cell_type": "code",
   "execution_count": 79,
   "id": "fe28b101-7f14-484c-a0d7-3200dfb0fcdb",
   "metadata": {
    "id": "9fb19f0d"
   },
   "outputs": [
    {
     "ename": "SyntaxError",
     "evalue": "invalid syntax (730973999.py, line 2)",
     "output_type": "error",
     "traceback": [
      "\u001b[1;36m  Cell \u001b[1;32mIn[79], line 2\u001b[1;36m\u001b[0m\n\u001b[1;33m    Use one variable to store the result of subtracting two numbers `20 - 7`.\u001b[0m\n\u001b[1;37m        ^\u001b[0m\n\u001b[1;31mSyntaxError\u001b[0m\u001b[1;31m:\u001b[0m invalid syntax\n"
     ]
    }
   ],
   "source": [
    "### Exercise 10:\n",
    "Use one variable to store the result of subtracting two numbers `20 - 7`."
   ]
  },
  {
   "cell_type": "code",
   "execution_count": 71,
   "id": "695bc0ab-8527-4426-86c7-a7153e15bdae",
   "metadata": {
    "id": "9fb19f0d"
   },
   "outputs": [
    {
     "name": "stdout",
     "output_type": "stream",
     "text": [
      "13\n"
     ]
    }
   ],
   "source": [
    "# Exercise 10\n",
    "result = 20-7\n",
    "print(result)"
   ]
  },
  {
   "cell_type": "code",
   "execution_count": null,
   "id": "db6065d4-4a0a-43b4-8c1f-5386cacff32c",
   "metadata": {
    "id": "9fb19f0d"
   },
   "outputs": [],
   "source": [
    "### Exercise 11:\n",
    "Assign an integer value and a floating-point value to two different variables."
   ]
  },
  {
   "cell_type": "code",
   "execution_count": null,
   "id": "a568df69-904d-4151-82af-4cf748be65ff",
   "metadata": {
    "id": "9fb19f0d"
   },
   "outputs": [],
   "source": [
    "\n",
    "# Exercise 11\n",
    "one = 2\n",
    "two = 7.8"
   ]
  },
  {
   "cell_type": "code",
   "execution_count": null,
   "id": "0f291ce5-31ec-4f3a-8f41-0f40b41afdb6",
   "metadata": {
    "id": "9fb19f0d"
   },
   "outputs": [],
   "source": [
    "### Exercise 12:\n",
    "Assign a boolean value `False` to a variable `is_completed`."
   ]
  },
  {
   "cell_type": "code",
   "execution_count": null,
   "id": "331a8814-b9f5-44b4-a4f0-45c682f919e9",
   "metadata": {
    "id": "9fb19f0d"
   },
   "outputs": [],
   "source": [
    "```python\n",
    "# Exercise 12\n",
    "is_completed = \"False\""
   ]
  },
  {
   "cell_type": "code",
   "execution_count": null,
   "id": "16f500b2-0b7d-4f10-b268-c9438c09e329",
   "metadata": {
    "id": "9fb19f0d"
   },
   "outputs": [],
   "source": []
  },
  {
   "cell_type": "code",
   "execution_count": null,
   "id": "cb4932da-8946-4c3a-9368-809a71bf3550",
   "metadata": {
    "id": "9fb19f0d"
   },
   "outputs": [],
   "source": [
    "---\n",
    "\n",
    "### Exercise 13:\n",
    "Swap the values of two variables `x` and `y`."
   ]
  },
  {
   "cell_type": "code",
   "execution_count": null,
   "id": "c5c9c9eb-cfc7-4eb1-b6f4-d903223e7897",
   "metadata": {
    "id": "9fb19f0d"
   },
   "outputs": [],
   "source": [
    "```python\n",
    "# Exercise 13\n",
    "```"
   ]
  },
  {
   "cell_type": "code",
   "execution_count": 81,
   "id": "09571b33-a329-418b-b852-f7234d771b07",
   "metadata": {
    "id": "9fb19f0d"
   },
   "outputs": [
    {
     "name": "stdout",
     "output_type": "stream",
     "text": [
      "2\n",
      "1\n"
     ]
    }
   ],
   "source": [
    "x = 1 \n",
    "y = 2\n",
    "temp = x \n",
    "x = y\n",
    "y = temp\n",
    "print(x)\n",
    "print(y)\n"
   ]
  },
  {
   "cell_type": "code",
   "execution_count": null,
   "id": "05e98df3-f904-441e-b9ea-49e9e01fd54f",
   "metadata": {
    "id": "9fb19f0d"
   },
   "outputs": [],
   "source": [
    "### Exercise 14:\n",
    "Assign a complex number `3 + 4j` to a variable `complex_num`."
   ]
  },
  {
   "cell_type": "code",
   "execution_count": 117,
   "id": "88eac40f-caab-4062-b84b-b20f3006be3c",
   "metadata": {
    "id": "9fb19f0d"
   },
   "outputs": [
    {
     "name": "stdout",
     "output_type": "stream",
     "text": [
      "(3+4j)\n"
     ]
    }
   ],
   "source": [
    "complex_num = 3 + 4j\n",
    "print(complex_num)\n",
    "\n"
   ]
  },
  {
   "cell_type": "code",
   "execution_count": null,
   "id": "bd19a144-7089-42b2-b785-2d0598a33dfe",
   "metadata": {
    "id": "9fb19f0d"
   },
   "outputs": [],
   "source": [
    "---"
   ]
  },
  {
   "cell_type": "code",
   "execution_count": null,
   "id": "e737fa02-e238-486e-a24a-31577a91bdd9",
   "metadata": {
    "id": "9fb19f0d"
   },
   "outputs": [],
   "source": [
    "### Exercise 15:\n",
    "Reassign a variable from an integer to a string.\n"
   ]
  },
  {
   "cell_type": "code",
   "execution_count": 119,
   "id": "11828cbc-6f0c-4c66-8d1f-a07239387efb",
   "metadata": {
    "id": "9fb19f0d"
   },
   "outputs": [
    {
     "name": "stdout",
     "output_type": "stream",
     "text": [
      "10\n",
      "Hello\n"
     ]
    }
   ],
   "source": [
    "# Exercise 15\n",
    "my_var = 10\n",
    "print(my_var) \n",
    "my_var = \"Hello\"\n",
    "print(my_var) \n"
   ]
  },
  {
   "cell_type": "code",
   "execution_count": null,
   "id": "64477031-f2a3-4841-9d4d-9c61d09d019a",
   "metadata": {
    "id": "9fb19f0d"
   },
   "outputs": [],
   "source": [
    "### Exercise 16:\n",
    "Create two variables `first_name`first and `last_name`, and assign them your first and last names."
   ]
  },
  {
   "cell_type": "code",
   "execution_count": null,
   "id": "c7fc31e9-c583-4bfe-8e4d-964f3cff405f",
   "metadata": {
    "id": "9fb19f0d"
   },
   "outputs": [],
   "source": [
    "# Exercise 16\n",
    "first_name = \"khadija\"\n",
    "last_name = \"wade\""
   ]
  },
  {
   "cell_type": "code",
   "execution_count": null,
   "id": "be55d216-dbed-4a5b-b702-d75876c5c00f",
   "metadata": {
    "id": "9fb19f0d"
   },
   "outputs": [],
   "source": [
    "---\n",
    "\n",
    "### Exercise 17:\n",
    "Create a variable `temperature` and assign it the value of `35.5`."
   ]
  },
  {
   "cell_type": "code",
   "execution_count": null,
   "id": "3c4c3495-fccc-489d-968c-bd137a4949fa",
   "metadata": {
    "id": "9fb19f0d"
   },
   "outputs": [],
   "source": [
    "```python\n",
    "# Exercise 17\n",
    "temperature = 35.5"
   ]
  },
  {
   "cell_type": "code",
   "execution_count": null,
   "id": "ed93ff33-ed30-4c23-a8c6-9e42b204bc44",
   "metadata": {
    "id": "9fb19f0d"
   },
   "outputs": [],
   "source": [
    "---\n",
    "\n",
    "### Exercise 18:\n",
    "Assign the result of the multiplication of two numbers `8 * 6` to a variable `product`."
   ]
  },
  {
   "cell_type": "code",
   "execution_count": null,
   "id": "b2f5a69f-4ef1-4658-89ef-465f8cbf48fe",
   "metadata": {
    "id": "9fb19f0d"
   },
   "outputs": [],
   "source": [
    "```python\n",
    "# Exercise 18\n",
    "product = 8*6"
   ]
  },
  {
   "cell_type": "code",
   "execution_count": null,
   "id": "e9a0c3b8-1916-4d48-b1ba-8390852512df",
   "metadata": {
    "id": "9fb19f0d"
   },
   "outputs": [],
   "source": [
    "---"
   ]
  },
  {
   "cell_type": "code",
   "execution_count": null,
   "id": "a284b155-89bc-448d-b04c-cd7a63b01355",
   "metadata": {
    "id": "9fb19f0d"
   },
   "outputs": [],
   "source": [
    "### Exercise 19:\n",
    "Assign a sentence of your choice to a variable `sentence`."
   ]
  },
  {
   "cell_type": "code",
   "execution_count": 129,
   "id": "85297cd1-5a74-4bcc-b870-650d36736b85",
   "metadata": {
    "id": "9fb19f0d"
   },
   "outputs": [
    {
     "name": "stdout",
     "output_type": "stream",
     "text": [
      " je suis fatiguée\n"
     ]
    }
   ],
   "source": [
    "\n",
    "# Exercise 19\n",
    "sentence = \" je suis fatiguée\"\n",
    "print(sentence)"
   ]
  },
  {
   "cell_type": "code",
   "execution_count": null,
   "id": "855bff93-5df2-4e46-bf82-e9468c780386",
   "metadata": {
    "id": "9fb19f0d"
   },
   "outputs": [],
   "source": [
    "### Exercise 20:\n",
    "Use an assignment to convert a string `'50'` into an integer variable `int_value`.\n",
    "\n",
    "```python"
   ]
  },
  {
   "cell_type": "code",
   "execution_count": 131,
   "id": "ffdc1e50-42c6-4483-a626-f6d4ba0f95b3",
   "metadata": {
    "id": "9fb19f0d"
   },
   "outputs": [
    {
     "name": "stdout",
     "output_type": "stream",
     "text": [
      "50\n"
     ]
    }
   ],
   "source": [
    "# Exercise 20\n",
    "string =\"50\" \n",
    "string = 50\n",
    "print(string) "
   ]
  },
  {
   "cell_type": "code",
   "execution_count": null,
   "id": "138198fc-fff3-404f-af5b-48b3595dc139",
   "metadata": {
    "id": "9fb19f0d"
   },
   "outputs": [],
   "source": [
    "### Exercise 21:\n",
    "Assign the result of dividing `144` by `12` to a variable `quotient`.\n",
    "\n",
    "```python"
   ]
  },
  {
   "cell_type": "code",
   "execution_count": 133,
   "id": "371706c6-32db-400f-bb83-e016d9af2697",
   "metadata": {
    "id": "9fb19f0d"
   },
   "outputs": [
    {
     "name": "stdout",
     "output_type": "stream",
     "text": [
      "12.0\n"
     ]
    }
   ],
   "source": [
    "# Exercise 21\n",
    "quotient = 144/12\n",
    "print(quotient)"
   ]
  },
  {
   "cell_type": "code",
   "execution_count": null,
   "id": "35653918-7241-4cea-8bc3-43312513facb",
   "metadata": {
    "id": "9fb19f0d"
   },
   "outputs": [],
   "source": [
    "---\n",
    "\n",
    "### Exercise 22:\n",
    "Assign the remainder of `47 divided by 5` to a variable `remainder`.\n",
    "\n",
    "```python"
   ]
  },
  {
   "cell_type": "code",
   "execution_count": 135,
   "id": "419837d9-a7cf-4779-88fc-dce2ef480159",
   "metadata": {
    "id": "9fb19f0d"
   },
   "outputs": [
    {
     "name": "stdout",
     "output_type": "stream",
     "text": [
      "2\n"
     ]
    }
   ],
   "source": [
    "# Exercise 22\n",
    "remainder = 47 % 5\n",
    "print(remainder)"
   ]
  },
  {
   "cell_type": "code",
   "execution_count": null,
   "id": "ddd00464-cc70-46b1-92a0-6aaedd4ed059",
   "metadata": {
    "id": "9fb19f0d"
   },
   "outputs": [],
   "source": [
    "---\n",
    "\n",
    "### Exercise 23:\n",
    "Create a variable `is_student` and assign it the value `True`.\n",
    "\n",
    "```python"
   ]
  },
  {
   "cell_type": "code",
   "execution_count": null,
   "id": "097a9d37-0495-4690-9256-9fbeddf8b74e",
   "metadata": {
    "id": "9fb19f0d"
   },
   "outputs": [],
   "source": [
    "# Exercise 23\n",
    "is_student = \"True\""
   ]
  },
  {
   "cell_type": "code",
   "execution_count": null,
   "id": "b455bafa-c2ca-4df4-869b-13636f7d69de",
   "metadata": {
    "id": "9fb19f0d"
   },
   "outputs": [],
   "source": [
    "---\n",
    "\n",
    "### Exercise 24:\n",
    "Use a variable to store the result of a modulo operation: `45 % 4`.\n",
    "\n",
    "```python"
   ]
  },
  {
   "cell_type": "code",
   "execution_count": 137,
   "id": "870b0b3d-85a1-4801-b914-cf69cc38558c",
   "metadata": {
    "id": "9fb19f0d"
   },
   "outputs": [
    {
     "data": {
      "text/plain": [
       "1"
      ]
     },
     "execution_count": 137,
     "metadata": {},
     "output_type": "execute_result"
    }
   ],
   "source": [
    "# Exercise 24\n",
    "modulo = 45 % 4\n",
    "modulo"
   ]
  },
  {
   "cell_type": "code",
   "execution_count": null,
   "id": "762ce55f-d5a5-44b1-8d39-8a8a1b163242",
   "metadata": {
    "id": "9fb19f0d"
   },
   "outputs": [],
   "source": [
    "### Exercise 25:\n",
    "Create a variable `pi` and assign it the value `3.14159`.\n",
    "\n",
    "```python"
   ]
  },
  {
   "cell_type": "code",
   "execution_count": null,
   "id": "7c556b17-8e8b-461f-a101-f5fa85546155",
   "metadata": {
    "id": "9fb19f0d"
   },
   "outputs": [],
   "source": [
    "# Exercise 25\n",
    "pi = 3.14159"
   ]
  },
  {
   "cell_type": "code",
   "execution_count": null,
   "id": "03d6a681-4cfb-4384-aa3e-130d36bc5588",
   "metadata": {
    "id": "9fb19f0d"
   },
   "outputs": [],
   "source": [
    "### Exercise 26:\n",
    "Create two variables `length` and `width`, assign them values, and calculate the area of a rectangle.\n",
    "\n",
    "```python"
   ]
  },
  {
   "cell_type": "code",
   "execution_count": 139,
   "id": "6a456d9f-1247-48ee-9ca6-5c16411af203",
   "metadata": {
    "id": "9fb19f0d"
   },
   "outputs": [
    {
     "name": "stdout",
     "output_type": "stream",
     "text": [
      "The area of the rectangle is: 40\n"
     ]
    }
   ],
   "source": [
    "# Exercise 26\n",
    "length = 8  \n",
    "width = 5   \n",
    "area = length * width\n",
    "print(\"The area of the rectangle is:\", area)\n"
   ]
  },
  {
   "cell_type": "code",
   "execution_count": null,
   "id": "a0e72c6d-d834-49c5-9904-349bd80db8f1",
   "metadata": {
    "id": "9fb19f0d"
   },
   "outputs": [],
   "source": [
    "### Exercise 27:\n",
    "Assign a negative number to a variable `negative_value`.\n",
    "\n",
    "```python"
   ]
  },
  {
   "cell_type": "code",
   "execution_count": 141,
   "id": "18e09707-7438-40a3-aec4-d6355a5dbfe5",
   "metadata": {
    "id": "9fb19f0d"
   },
   "outputs": [],
   "source": [
    "# Exercise 27\n",
    "negative_value = -9"
   ]
  },
  {
   "cell_type": "code",
   "execution_count": null,
   "id": "297fdae5-36f9-432e-abd1-78901294dc5a",
   "metadata": {
    "id": "9fb19f0d"
   },
   "outputs": [],
   "source": [
    "### Exercise 28:\n",
    "Assign a string containing a special character (e.g., \"Hello, World!\") to a variable `greeting`.\n",
    "\n",
    "```python"
   ]
  },
  {
   "cell_type": "code",
   "execution_count": 143,
   "id": "22f6f5d8-a2b5-455c-afd7-bc44a0acdaa2",
   "metadata": {
    "id": "9fb19f0d"
   },
   "outputs": [
    {
     "data": {
      "text/plain": [
       "'Hello, World!'"
      ]
     },
     "execution_count": 143,
     "metadata": {},
     "output_type": "execute_result"
    }
   ],
   "source": [
    "# Exercise 28\n",
    "greeting = \"Hello, World!\"\n",
    "greeting"
   ]
  },
  {
   "cell_type": "code",
   "execution_count": null,
   "id": "7390228d-5966-4268-aa1d-140754991a8f",
   "metadata": {
    "id": "9fb19f0d"
   },
   "outputs": [],
   "source": [
    "---\n",
    "\n",
    "### Exercise 29:\n",
    "Create a variable `population` and assign it a large integer value (in billions)."
   ]
  },
  {
   "cell_type": "code",
   "execution_count": 145,
   "id": "2aacb5d5-6c4d-41c1-b6e4-6062cc68e170",
   "metadata": {
    "id": "9fb19f0d"
   },
   "outputs": [
    {
     "name": "stdout",
     "output_type": "stream",
     "text": [
      "7800000000\n"
     ]
    }
   ],
   "source": [
    "# Exercise 29\n",
    "population = 7800000000\n",
    "print(population)\n"
   ]
  },
  {
   "cell_type": "code",
   "execution_count": null,
   "id": "b2259367-476b-423e-b733-c7d341e6814b",
   "metadata": {
    "id": "9fb19f0d"
   },
   "outputs": [],
   "source": [
    "### Exercise 30:\n",
    "Use a variable to store the result of raising `2` to the power of `8`.\n",
    "\n",
    "```python"
   ]
  },
  {
   "cell_type": "code",
   "execution_count": 149,
   "id": "d6967a2d-e9e6-4fbf-ba3c-d7aada8df747",
   "metadata": {
    "id": "9fb19f0d"
   },
   "outputs": [
    {
     "data": {
      "text/plain": [
       "256"
      ]
     },
     "execution_count": 149,
     "metadata": {},
     "output_type": "execute_result"
    }
   ],
   "source": [
    "# Exercise 30\n",
    "result = 2 ** 8\n",
    "result"
   ]
  },
  {
   "cell_type": "code",
   "execution_count": null,
   "id": "12b86e86-10c7-4b3e-ae1d-9d79a9b56704",
   "metadata": {
    "id": "9fb19f0d"
   },
   "outputs": [],
   "source": [
    "---\n",
    "\n",
    "### Exercise 31:\n",
    "Assign a list of your favorite fruits to a variable `fruits`.\n",
    "\n",
    "```python"
   ]
  },
  {
   "cell_type": "code",
   "execution_count": 151,
   "id": "141253d3-8b6c-48bc-a075-28282418e2ba",
   "metadata": {
    "id": "9fb19f0d"
   },
   "outputs": [
    {
     "data": {
      "text/plain": [
       "['mangue', 'banane', 'raisin']"
      ]
     },
     "execution_count": 151,
     "metadata": {},
     "output_type": "execute_result"
    }
   ],
   "source": [
    "# Exercise 31\n",
    "best_fruits = ['mangue' , 'banane' , 'raisin']\n",
    "best_fruits"
   ]
  },
  {
   "cell_type": "code",
   "execution_count": null,
   "id": "379c86e1-c720-4497-a4d2-2171df3ca080",
   "metadata": {
    "id": "9fb19f0d"
   },
   "outputs": [],
   "source": [
    "### Exercise 32:\n",
    "Assign a tuple of three numbers to a variable `coordinates`.\n",
    "\n",
    "```python"
   ]
  },
  {
   "cell_type": "code",
   "execution_count": 155,
   "id": "37e14ee3-3657-48c8-a99c-b9762703d255",
   "metadata": {
    "id": "9fb19f0d"
   },
   "outputs": [
    {
     "data": {
      "text/plain": [
       "(1, 2, 3)"
      ]
     },
     "execution_count": 155,
     "metadata": {},
     "output_type": "execute_result"
    }
   ],
   "source": [
    "# Exercise 32\n",
    "coordinates = ( 1, 2, 3)\n",
    "coordinates"
   ]
  },
  {
   "cell_type": "code",
   "execution_count": null,
   "id": "35217839-0592-4543-856b-20dafb19fc20",
   "metadata": {
    "id": "9fb19f0d"
   },
   "outputs": [],
   "source": [
    "### Exercise 33:\n",
    "Assign a dictionary with keys `name` and `age` to a variable `person`.\n",
    "\n",
    "```python"
   ]
  },
  {
   "cell_type": "code",
   "execution_count": 165,
   "id": "02a1d977-c524-496d-88c1-df4c605ba7e3",
   "metadata": {
    "id": "9fb19f0d"
   },
   "outputs": [
    {
     "data": {
      "text/plain": [
       "{'name': 'khadija', 'prenom': 'khadija', 'age': 23}"
      ]
     },
     "execution_count": 165,
     "metadata": {},
     "output_type": "execute_result"
    }
   ],
   "source": [
    "# Exercise 33\n",
    "dict = {'name':'khadija' , 'prenom':'khadija' , 'age':23}\n",
    "dict"
   ]
  },
  {
   "cell_type": "code",
   "execution_count": null,
   "id": "52b2d44d-5d2e-4d9d-adc2-e5513e05d0fc",
   "metadata": {
    "id": "9fb19f0d"
   },
   "outputs": [],
   "source": [
    "### Exercise 34:\n",
    "Use variables to store the sum of two floating-point numbers.\n",
    "\n",
    "```python"
   ]
  },
  {
   "cell_type": "code",
   "execution_count": 167,
   "id": "76bf2279-dd9c-429a-9ec3-7e0a797cad79",
   "metadata": {
    "id": "9fb19f0d"
   },
   "outputs": [
    {
     "data": {
      "text/plain": [
       "9.7"
      ]
     },
     "execution_count": 167,
     "metadata": {},
     "output_type": "execute_result"
    }
   ],
   "source": [
    "# Exercise 34\n",
    "result = 1.2 + 8.5\n",
    "result"
   ]
  },
  {
   "cell_type": "code",
   "execution_count": null,
   "id": "40dee92e-3f8c-4169-8fa2-0d08d5d01076",
   "metadata": {
    "id": "9fb19f0d"
   },
   "outputs": [],
   "source": [
    "### Exercise 35:\n",
    "Create a variable `is_sunny` and assign it the result of a comparison `10 > 5`.\n",
    "\n",
    "```python"
   ]
  },
  {
   "cell_type": "code",
   "execution_count": 173,
   "id": "7507782d-26bc-40a1-807d-55f9912818db",
   "metadata": {
    "id": "9fb19f0d"
   },
   "outputs": [
    {
     "data": {
      "text/plain": [
       "True"
      ]
     },
     "execution_count": 173,
     "metadata": {},
     "output_type": "execute_result"
    }
   ],
   "source": [
    "# Exercise 35\n",
    "is_sunny = (10 > 5)\n",
    "is_sunny"
   ]
  },
  {
   "cell_type": "code",
   "execution_count": null,
   "id": "f33014ff-f179-4ca5-b7fb-ac205a428f73",
   "metadata": {
    "id": "9fb19f0d"
   },
   "outputs": [],
   "source": [
    "### Exercise 36:\n",
    "Assign a string and an integer to two different variables, then print both on one line.\n",
    "\n",
    "```python"
   ]
  },
  {
   "cell_type": "code",
   "execution_count": 183,
   "id": "1d95fe76-f488-4455-a5df-4a42044ff8a1",
   "metadata": {
    "id": "9fb19f0d"
   },
   "outputs": [
    {
     "name": "stdout",
     "output_type": "stream",
     "text": [
      "one 2\n"
     ]
    }
   ],
   "source": [
    "# Exercise 36\n",
    "one = 'number' \n",
    "two = '1' \n",
    "print( 'one' + ' '+ '2')"
   ]
  },
  {
   "cell_type": "code",
   "execution_count": null,
   "id": "3f8af920-a16c-48ca-a47f-60e2648e23d8",
   "metadata": {
    "id": "9fb19f0d"
   },
   "outputs": [],
   "source": [
    "### Exercise 37:\n",
    "Reassign a variable that originally held a number to a boolean value.\n",
    "\n",
    "```python"
   ]
  },
  {
   "cell_type": "code",
   "execution_count": null,
   "id": "abf3cd67-72d4-4575-abda-f43e86571062",
   "metadata": {
    "id": "9fb19f0d"
   },
   "outputs": [],
   "source": [
    "# Exercise 37\n",
    "my_var = 42\n",
    "print(my_var)  \n",
    "my_var = True\n",
    "print(my_var) "
   ]
  },
  {
   "cell_type": "code",
   "execution_count": null,
   "id": "1b484e12-d4d0-4ba8-98d2-19682487a8fe",
   "metadata": {
    "id": "9fb19f0d"
   },
   "outputs": [],
   "source": [
    "### Exercise 38:\n",
    "Create a variable `is_weekend` and assign it the result of `False`.\n",
    "\n",
    "```python"
   ]
  },
  {
   "cell_type": "code",
   "execution_count": 189,
   "id": "627ab29b-58b8-4df8-a9f0-a58420d991f2",
   "metadata": {
    "id": "9fb19f0d"
   },
   "outputs": [
    {
     "data": {
      "text/plain": [
       "'False'"
      ]
     },
     "execution_count": 189,
     "metadata": {},
     "output_type": "execute_result"
    }
   ],
   "source": [
    "# Exercise 38\n",
    "is_weekend = 'False'\n",
    "is_weekend"
   ]
  },
  {
   "cell_type": "code",
   "execution_count": null,
   "id": "1328e8ca-da4b-401e-a590-f3967140a9b3",
   "metadata": {
    "id": "9fb19f0d"
   },
   "outputs": [],
   "source": [
    "### Exercise 39:\n",
    "Assign a multi-line string to a variable `description`.\n",
    "\n",
    "```python"
   ]
  },
  {
   "cell_type": "code",
   "execution_count": 201,
   "id": "e097d757-7b75-4940-b0f5-6e9759929f38",
   "metadata": {
    "id": "9fb19f0d"
   },
   "outputs": [
    {
     "data": {
      "text/plain": [
       "'AAAAAAAAAAAAAAAAAAAAAAA ,\\nAAAAAAAAAAAAAAAAAAAAAAAAAAAAAAAAAAAAAAAA,\\nAAAAAAAAAAAAAAAAAAAAAAAAAAAAAAAAAAAAAAA '"
      ]
     },
     "execution_count": 201,
     "metadata": {},
     "output_type": "execute_result"
    }
   ],
   "source": [
    "# Exercise 39\n",
    "description = '''AAAAAAAAAAAAAAAAAAAAAAA ,\n",
    "AAAAAAAAAAAAAAAAAAAAAAAAAAAAAAAAAAAAAAAA,\n",
    "AAAAAAAAAAAAAAAAAAAAAAAAAAAAAAAAAAAAAAA '''\n",
    "description"
   ]
  },
  {
   "cell_type": "code",
   "execution_count": null,
   "id": "6e388097-9acb-4097-bc99-ab6075851b02",
   "metadata": {
    "id": "9fb19f0d"
   },
   "outputs": [],
   "source": [
    "---\n",
    "\n",
    "### Exercise 40:\n",
    "Use variables to store the result of the absolute value of `-25`.\n",
    "\n",
    "```python"
   ]
  },
  {
   "cell_type": "code",
   "execution_count": 203,
   "id": "93d740b1-a2bf-4301-b9b0-905c5aca0e52",
   "metadata": {
    "id": "9fb19f0d"
   },
   "outputs": [
    {
     "name": "stdout",
     "output_type": "stream",
     "text": [
      "25\n"
     ]
    }
   ],
   "source": [
    "# Exercise 40\n",
    "number = -25\n",
    "absolute_value = abs(number)\n",
    "print(absolute_value)\n"
   ]
  },
  {
   "cell_type": "code",
   "execution_count": null,
   "id": "135ffc10-6b94-40b3-a2b5-e9a68c212d6a",
   "metadata": {
    "id": "9fb19f0d"
   },
   "outputs": [],
   "source": [
    "### Exercise 41:\n",
    "Assign the result of a floor division `100 // 6` to a variable `floor_div_result`.\n",
    "\n",
    "```python"
   ]
  },
  {
   "cell_type": "code",
   "execution_count": 205,
   "id": "9c00a5fa-48dc-4d7d-a81e-a2fbf837fdb6",
   "metadata": {
    "id": "9fb19f0d"
   },
   "outputs": [
    {
     "name": "stdout",
     "output_type": "stream",
     "text": [
      "16\n"
     ]
    }
   ],
   "source": [
    "# Exercise 41\n",
    "floor_div_result = 100 // 6\n",
    "print(floor_div_result)\n"
   ]
  },
  {
   "cell_type": "code",
   "execution_count": null,
   "id": "0d35546c-21c5-4bf7-aa75-9d2703a31393",
   "metadata": {
    "id": "9fb19f0d"
   },
   "outputs": [],
   "source": [
    "### Exercise 42:\n",
    "Assign the result of adding a floating-point number to an integer to a variable `mixed_sum`.\n",
    "\n",
    "```python"
   ]
  },
  {
   "cell_type": "code",
   "execution_count": 207,
   "id": "d4baf063-a213-4c19-a5a7-c1a0be14c647",
   "metadata": {
    "id": "9fb19f0d"
   },
   "outputs": [
    {
     "name": "stdout",
     "output_type": "stream",
     "text": [
      "13.5\n"
     ]
    }
   ],
   "source": [
    "# Exercise 42\n",
    "# Adding a float and an integer\n",
    "integer_number = 10\n",
    "float_number = 3.5\n",
    "mixed_sum = integer_number + float_number\n",
    "print(mixed_sum)\n"
   ]
  },
  {
   "cell_type": "code",
   "execution_count": null,
   "id": "bb5267a1-ff1a-4874-9bfb-858724c81eca",
   "metadata": {
    "id": "9fb19f0d"
   },
   "outputs": [],
   "source": [
    "### Exercise 43:\n",
    "Assign a boolean value based on the comparison of two variables `a = 10` and `b = 15`.\n",
    "\n",
    "```python"
   ]
  },
  {
   "cell_type": "code",
   "execution_count": 209,
   "id": "4636513f-11f7-4a3b-86e2-009ed628a6b7",
   "metadata": {
    "id": "9fb19f0d"
   },
   "outputs": [
    {
     "name": "stdout",
     "output_type": "stream",
     "text": [
      "True\n"
     ]
    }
   ],
   "source": [
    "# Exercise 43\n",
    "a = 10\n",
    "b = 15\n",
    "is_a_less_than_b = a < b\n",
    "\n",
    "print(is_a_less_than_b)\n"
   ]
  },
  {
   "cell_type": "code",
   "execution_count": null,
   "id": "3ef702d0-0364-429d-9f2f-e6150f6e3677",
   "metadata": {
    "id": "9fb19f0d"
   },
   "outputs": [],
   "source": [
    "### Exercise 44:\n",
    "Assign a long sentence to a variable and count its characters using `len()`.\n",
    "\n",
    "```python"
   ]
  },
  {
   "cell_type": "code",
   "execution_count": 211,
   "id": "57820bfa-da53-4ea0-8fef-d47b2d92200d",
   "metadata": {
    "id": "9fb19f0d"
   },
   "outputs": [
    {
     "name": "stdout",
     "output_type": "stream",
     "text": [
      "Number of characters: 113\n"
     ]
    }
   ],
   "source": [
    "# Exercise 44\n",
    "sentence = \"Python is a powerful programming language that allows you to work quickly and integrate systems more effectively.\"\n",
    "char_count = len(sentence)\n",
    "print(\"Number of characters:\", char_count)\n"
   ]
  },
  {
   "cell_type": "code",
   "execution_count": null,
   "id": "9e8f07cd-b756-428d-a827-3bae7d10c0e9",
   "metadata": {
    "id": "9fb19f0d"
   },
   "outputs": [],
   "source": [
    "### Exercise 45:\n",
    "Assign a fractional result `7 / 3` to a variable `division_result`.\n",
    "\n",
    "```python"
   ]
  },
  {
   "cell_type": "code",
   "execution_count": 219,
   "id": "d95a0b30-623f-4870-b8c5-c9b5585852c5",
   "metadata": {
    "id": "9fb19f0d"
   },
   "outputs": [
    {
     "data": {
      "text/plain": [
       "2.3333333333333335"
      ]
     },
     "execution_count": 219,
     "metadata": {},
     "output_type": "execute_result"
    }
   ],
   "source": [
    "# Exercise 45\n",
    "division_result = 7 / 3\n",
    "division_result"
   ]
  },
  {
   "cell_type": "code",
   "execution_count": 75,
   "id": "ced39258-d10c-49ad-a8e8-89989bed4c68",
   "metadata": {
    "id": "9fb19f0d"
   },
   "outputs": [
    {
     "ename": "SyntaxError",
     "evalue": "invalid syntax (1166474023.py, line 2)",
     "output_type": "error",
     "traceback": [
      "\u001b[1;36m  Cell \u001b[1;32mIn[75], line 2\u001b[1;36m\u001b[0m\n\u001b[1;33m    Create a variable `speed` and assign it the value of 100 kilometers per hour.\u001b[0m\n\u001b[1;37m           ^\u001b[0m\n\u001b[1;31mSyntaxError\u001b[0m\u001b[1;31m:\u001b[0m invalid syntax\n"
     ]
    }
   ],
   "source": [
    "### Exercise 46:\n",
    "Create a variable `speed` and assign it the value of 100 kilometers per hour."
   ]
  },
  {
   "cell_type": "code",
   "execution_count": 237,
   "id": "97203f10-6b5b-4e53-8ac6-6de227bb3b27",
   "metadata": {
    "id": "9fb19f0d"
   },
   "outputs": [
    {
     "data": {
      "text/plain": [
       "'100km/h'"
      ]
     },
     "execution_count": 237,
     "metadata": {},
     "output_type": "execute_result"
    }
   ],
   "source": [
    "# Exercise 46\n",
    "speed = '100' + 'km/h'\n",
    "speed"
   ]
  },
  {
   "cell_type": "code",
   "execution_count": null,
   "id": "8022d792-4354-494f-9134-31b44e4f828e",
   "metadata": {
    "id": "9fb19f0d"
   },
   "outputs": [],
   "source": [
    "### Exercise 47:\n",
    "Assign a multi-variable equation like `y = 3x + 5` where `x = 4` to a variable `y`.\n"
   ]
  },
  {
   "cell_type": "code",
   "execution_count": 231,
   "id": "4c928e7e-f71c-49bb-8e66-14dd0696b5ce",
   "metadata": {
    "id": "9fb19f0d"
   },
   "outputs": [
    {
     "name": "stdout",
     "output_type": "stream",
     "text": [
      "17\n"
     ]
    }
   ],
   "source": [
    "# Exercise 47\n",
    "x = 4\n",
    "y = 3 * x + 5\n",
    "print(y)\n"
   ]
  },
  {
   "cell_type": "code",
   "execution_count": null,
   "id": "7a84ee69-2d0e-477a-8cc4-46531dbbc63b",
   "metadata": {
    "id": "9fb19f0d"
   },
   "outputs": [],
   "source": [
    "### Exercise 48:\n",
    "Use variables to calculate and store the average of three numbers."
   ]
  },
  {
   "cell_type": "code",
   "execution_count": 223,
   "id": "9e0550d8-41b4-4b84-b47b-915cb33d08f7",
   "metadata": {
    "id": "9fb19f0d"
   },
   "outputs": [
    {
     "name": "stdout",
     "output_type": "stream",
     "text": [
      "The average is: 18.0\n"
     ]
    }
   ],
   "source": [
    "# Exercise 48\n",
    "num1 = 12\n",
    "num2 = 18\n",
    "num3 = 24\n",
    "average = (num1 + num2 + num3) / 3\n",
    "print(\"The average is:\", average)\n"
   ]
  }
 ],
 "metadata": {
  "colab": {
   "provenance": []
  },
  "kernelspec": {
   "display_name": "Python [conda env:base] *",
   "language": "python",
   "name": "conda-base-py"
  },
  "language_info": {
   "codemirror_mode": {
    "name": "ipython",
    "version": 3
   },
   "file_extension": ".py",
   "mimetype": "text/x-python",
   "name": "python",
   "nbconvert_exporter": "python",
   "pygments_lexer": "ipython3",
   "version": "3.12.7"
  }
 },
 "nbformat": 4,
 "nbformat_minor": 5
}
